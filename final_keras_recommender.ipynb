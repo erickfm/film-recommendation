{
 "cells": [
  {
   "cell_type": "markdown",
   "id": "a98c8f0e",
   "metadata": {},
   "source": [
    "# 1. Import libraries for Recommendation system and plotting\n",
    "\n",
    "For the recommendation engine this notebook uses the standard Keras deep learning model. https://keras.io/api/models/model/"
   ]
  },
  {
   "cell_type": "code",
   "execution_count": 2,
   "id": "b9c0c13c",
   "metadata": {},
   "outputs": [
    {
     "name": "stderr",
     "output_type": "stream",
     "text": [
      "Using TensorFlow backend.\n"
     ]
    }
   ],
   "source": [
    "# Import Libraries\n",
    "import os\n",
    "from IPython.display import Image\n",
    "from IPython.display import SVG\n",
    "import pydot\n",
    "import statistics\n",
    "\n",
    "# standard\n",
    "import numpy as np\n",
    "import pandas as pd\n",
    "import pandas_profiling\n",
    "import random\n",
    "\n",
    "# spicy\n",
    "from scipy.sparse import csr_matrix\n",
    "\n",
    "# tensorflow & keras\n",
    "import tensorflow as tf\n",
    "from tensorflow import keras\n",
    "from tensorflow.keras import layers\n",
    "from keras.utils.vis_utils import model_to_dot\n",
    "from keras.utils import plot_model\n",
    "from keras.layers import Concatenate, Dense, Dropout\n",
    "\n",
    "# sklearn\n",
    "from sklearn.cluster import KMeans\n",
    "from sklearn.preprocessing import StandardScaler\n",
    "from sklearn.decomposition import PCA\n",
    "from sklearn.mixture import GaussianMixture\n",
    "from sklearn.feature_extraction.text import CountVectorizer\n",
    "from sklearn.model_selection import train_test_split\n",
    "from sklearn.metrics.pairwise import cosine_similarity\n",
    "from sklearn.metrics import mean_squared_error\n",
    "\n",
    "# data visualization\n",
    "from matplotlib import cm\n",
    "import matplotlib.pyplot as plt\n",
    "from IPython.display import Image"
   ]
  },
  {
   "cell_type": "markdown",
   "id": "bdec700c",
   "metadata": {},
   "source": [
    "# 2. Import and analyze the data\n",
    "\n",
    "This section of the notebook imports various movie data, user data, and movie rating data."
   ]
  },
  {
   "cell_type": "code",
   "execution_count": 3,
   "id": "553a1995",
   "metadata": {},
   "outputs": [],
   "source": [
    "# Import core data\n",
    "tags = pd.read_csv('data/genome-tags.csv')\n",
    "movies = pd.read_csv('data/movies.csv')\n",
    "user_tags = pd.read_csv('data/tags.csv')\n",
    "tag_scores = pd.read_csv('data/genome-scores.csv')\n",
    "ratings = pd.read_csv('data/ratings.csv')\n",
    "links = pd.read_csv('data/links.csv')"
   ]
  },
  {
   "cell_type": "code",
   "execution_count": 4,
   "id": "0322a372",
   "metadata": {},
   "outputs": [
    {
     "name": "stdout",
     "output_type": "stream",
     "text": [
      "count    2.838583e+06\n",
      "mean     3.540060e+00\n",
      "std      1.060301e+00\n",
      "min      5.000000e-01\n",
      "25%      3.000000e+00\n",
      "50%      4.000000e+00\n",
      "75%      4.000000e+00\n",
      "max      5.000000e+00\n",
      "Name: rating, dtype: float64\n"
     ]
    },
    {
     "data": {
      "text/plain": [
       "(array([ 44129.,  87276.,  45705., 185480., 141961., 551398., 359561.,\n",
       "        757718., 250621., 414734.]),\n",
       " array([0.5 , 0.95, 1.4 , 1.85, 2.3 , 2.75, 3.2 , 3.65, 4.1 , 4.55, 5.  ]),\n",
       " <BarContainer object of 10 artists>)"
      ]
     },
     "execution_count": 4,
     "metadata": {},
     "output_type": "execute_result"
    },
    {
     "data": {
      "image/png": "[encoded data removed]",
      "text/plain": [
       "<Figure size 432x288 with 1 Axes>"
      ]
     },
     "metadata": {
      "needs_background": "light"
     },
     "output_type": "display_data"
    }
   ],
   "source": [
    "# View the ratings summary statiscis\n",
    "print(ratings.rating.describe())\n",
    "\n",
    "# Plot the movie ratings\n",
    "plt.hist(ratings.rating)"
   ]
  },
  {
   "cell_type": "markdown",
   "id": "082e7420",
   "metadata": {},
   "source": [
    "# 3. Prepare feature vectors and train the Keras model\n",
    "\n",
    "This section of the notebook containts the code to vectorize user, movie, and rating data in order to train a Keras model"
   ]
  },
  {
   "cell_type": "code",
   "execution_count": 5,
   "id": "bce3c8ce",
   "metadata": {},
   "outputs": [],
   "source": [
    "# Get user and movie vectors\n",
    "users_from_ratings = ratings.userId.unique()\n",
    "movies_from_ratings = ratings.movieId.unique()\n",
    "\n",
    "# min and max ratings will be used to normalize the ratings later\n",
    "min_rating = min(ratings[\"rating\"])\n",
    "max_rating = max(ratings[\"rating\"])\n",
    "\n",
    "# Create vector of ordered users in case we are missing a userId\n",
    "user_map = {i:val for i,val in enumerate(users_from_ratings)}\n",
    "inverse_user_map = {val:i for i,val in enumerate(users_from_ratings)}\n",
    "\n",
    "# Create vector of ordered movies in case we are missing a moveId\n",
    "movie_map = {i:val for i,val in enumerate(movies_from_ratings)}\n",
    "inverse_movie_map = {val:i for i,val in enumerate(movies_from_ratings)}\n",
    "\n",
    "# Add the ordered userIds and movieIds back to the Ratings data frame\n",
    "ratings[\"new_user_id\"] = ratings[\"userId\"].map(inverse_user_map)\n",
    "ratings[\"new_movie_id\"] = ratings[\"movieId\"].map(inverse_movie_map)"
   ]
  },
  {
   "cell_type": "code",
   "execution_count": 7,
   "id": "fbf3395b",
   "metadata": {},
   "outputs": [
    {
     "data": {
      "text/html": [
       "<div>\n",
       "<style scoped>\n",
       "    .dataframe tbody tr th:only-of-type {\n",
       "        vertical-align: middle;\n",
       "    }\n",
       "\n",
       "    .dataframe tbody tr th {\n",
       "        vertical-align: top;\n",
       "    }\n",
       "\n",
       "    .dataframe thead th {\n",
       "        text-align: right;\n",
       "    }\n",
       "</style>\n",
       "<table border=\"1\" class=\"dataframe\">\n",
       "  <thead>\n",
       "    <tr style=\"text-align: right;\">\n",
       "      <th></th>\n",
       "      <th>userId</th>\n",
       "      <th>movieId</th>\n",
       "      <th>rating</th>\n",
       "      <th>timestamp</th>\n",
       "      <th>new_user_id</th>\n",
       "      <th>new_movie_id</th>\n",
       "    </tr>\n",
       "  </thead>\n",
       "  <tbody>\n",
       "    <tr>\n",
       "      <th>1361922</th>\n",
       "      <td>9171</td>\n",
       "      <td>32</td>\n",
       "      <td>4.5</td>\n",
       "      <td>1.546725e+09</td>\n",
       "      <td>9170</td>\n",
       "      <td>251</td>\n",
       "    </tr>\n",
       "    <tr>\n",
       "      <th>1361923</th>\n",
       "      <td>9171</td>\n",
       "      <td>47</td>\n",
       "      <td>4.5</td>\n",
       "      <td>1.546361e+09</td>\n",
       "      <td>9170</td>\n",
       "      <td>924</td>\n",
       "    </tr>\n",
       "    <tr>\n",
       "      <th>1361924</th>\n",
       "      <td>9171</td>\n",
       "      <td>50</td>\n",
       "      <td>4.0</td>\n",
       "      <td>1.546361e+09</td>\n",
       "      <td>9170</td>\n",
       "      <td>252</td>\n",
       "    </tr>\n",
       "    <tr>\n",
       "      <th>1361925</th>\n",
       "      <td>9171</td>\n",
       "      <td>111</td>\n",
       "      <td>4.0</td>\n",
       "      <td>1.546361e+09</td>\n",
       "      <td>9170</td>\n",
       "      <td>253</td>\n",
       "    </tr>\n",
       "    <tr>\n",
       "      <th>1361926</th>\n",
       "      <td>9171</td>\n",
       "      <td>260</td>\n",
       "      <td>5.0</td>\n",
       "      <td>1.546361e+09</td>\n",
       "      <td>9170</td>\n",
       "      <td>76</td>\n",
       "    </tr>\n",
       "    <tr>\n",
       "      <th>...</th>\n",
       "      <td>...</td>\n",
       "      <td>...</td>\n",
       "      <td>...</td>\n",
       "      <td>...</td>\n",
       "      <td>...</td>\n",
       "      <td>...</td>\n",
       "    </tr>\n",
       "    <tr>\n",
       "      <th>1362082</th>\n",
       "      <td>9171</td>\n",
       "      <td>187593</td>\n",
       "      <td>4.5</td>\n",
       "      <td>1.546361e+09</td>\n",
       "      <td>9170</td>\n",
       "      <td>839</td>\n",
       "    </tr>\n",
       "    <tr>\n",
       "      <th>1362083</th>\n",
       "      <td>9171</td>\n",
       "      <td>189713</td>\n",
       "      <td>4.0</td>\n",
       "      <td>1.546812e+09</td>\n",
       "      <td>9170</td>\n",
       "      <td>6647</td>\n",
       "    </tr>\n",
       "    <tr>\n",
       "      <th>1362084</th>\n",
       "      <td>9171</td>\n",
       "      <td>192385</td>\n",
       "      <td>4.5</td>\n",
       "      <td>1.546363e+09</td>\n",
       "      <td>9170</td>\n",
       "      <td>6720</td>\n",
       "    </tr>\n",
       "    <tr>\n",
       "      <th>1362085</th>\n",
       "      <td>9171</td>\n",
       "      <td>192803</td>\n",
       "      <td>4.5</td>\n",
       "      <td>1.546725e+09</td>\n",
       "      <td>9170</td>\n",
       "      <td>3955</td>\n",
       "    </tr>\n",
       "    <tr>\n",
       "      <th>1362086</th>\n",
       "      <td>9171</td>\n",
       "      <td>194951</td>\n",
       "      <td>3.0</td>\n",
       "      <td>1.546363e+09</td>\n",
       "      <td>9170</td>\n",
       "      <td>7103</td>\n",
       "    </tr>\n",
       "  </tbody>\n",
       "</table>\n",
       "<p>165 rows × 6 columns</p>\n",
       "</div>"
      ],
      "text/plain": [
       "         userId  movieId  rating     timestamp  new_user_id  new_movie_id\n",
       "1361922    9171       32     4.5  1.546725e+09         9170           251\n",
       "1361923    9171       47     4.5  1.546361e+09         9170           924\n",
       "1361924    9171       50     4.0  1.546361e+09         9170           252\n",
       "1361925    9171      111     4.0  1.546361e+09         9170           253\n",
       "1361926    9171      260     5.0  1.546361e+09         9170            76\n",
       "...         ...      ...     ...           ...          ...           ...\n",
       "1362082    9171   187593     4.5  1.546361e+09         9170           839\n",
       "1362083    9171   189713     4.0  1.546812e+09         9170          6647\n",
       "1362084    9171   192385     4.5  1.546363e+09         9170          6720\n",
       "1362085    9171   192803     4.5  1.546725e+09         9170          3955\n",
       "1362086    9171   194951     3.0  1.546363e+09         9170          7103\n",
       "\n",
       "[165 rows x 6 columns]"
      ]
     },
     "execution_count": 7,
     "metadata": {},
     "output_type": "execute_result"
    }
   ],
   "source": [
    "# Display rating data for original userId 9171, this is the user for comparing model results for the project\n",
    "ratings[ratings[\"userId\"] == 9171]"
   ]
  },
  {
   "cell_type": "code",
   "execution_count": 8,
   "id": "1e262d62",
   "metadata": {},
   "outputs": [],
   "source": [
    "# create train and test datasets\n",
    "new_ratings = ratings.sample(frac=1, random_state=42)\n",
    "\n",
    "# Get the values for usersids and movieids\n",
    "x = new_ratings[[\"new_user_id\", \"new_movie_id\"]].values\n",
    "\n",
    "# Normalize ratings between 0 and 1 to optimize training\n",
    "y = new_ratings[\"rating\"].apply(lambda x: (x - min_rating) / (max_rating - min_rating)).values\n",
    "\n",
    "# Split train and test data into 70/30\n",
    "train_indices = int(0.7 * new_ratings.shape[0])\n",
    "x_train, x_val, y_train, y_val = (x[:train_indices], x[train_indices:], y[:train_indices], y[train_indices:],)\n"
   ]
  },
  {
   "cell_type": "code",
   "execution_count": 9,
   "id": "0027ceed",
   "metadata": {},
   "outputs": [],
   "source": [
    "# Code below is guidance from Keras documentation on Recommendation engines. \n",
    "# I tried a number of permutations of the embedding sizes, intializers, and regularization but nothing seemed to perform any better. \n",
    "\n",
    "class RecommenderNet(keras.Model):\n",
    "    \"\"\"Model class for recommendation engine using Keras neural network\"\"\"\n",
    "    def __init__(self, num_users, num_movies, embedding_size, **kwargs):\n",
    "        super(RecommenderNet, self).__init__(**kwargs)\n",
    "        self.num_users = num_users\n",
    "        self.num_movies = num_movies\n",
    "        self.embedding_size = embedding_size\n",
    "        self.user_embedding = layers.Embedding(num_users, embedding_size, embeddings_initializer=\"he_normal\", embeddings_regularizer=keras.regularizers.l2(1e-6),)\n",
    "        self.user_bias = layers.Embedding(num_users, 1)\n",
    "        self.movie_embedding = layers.Embedding(num_movies,embedding_size,embeddings_initializer=\"he_normal\", embeddings_regularizer=keras.regularizers.l2(1e-6),)\n",
    "        self.movie_bias = layers.Embedding(num_movies, 1)\n",
    "\n",
    "    def call(self, inputs):\n",
    "        \"\"\"Constructor to help with initializing the recommendation engine\"\"\"\n",
    "        user_vector = self.user_embedding(inputs[:, 0])\n",
    "        user_bias = self.user_bias(inputs[:, 0])\n",
    "        movie_vector = self.movie_embedding(inputs[:, 1])\n",
    "        movie_bias = self.movie_bias(inputs[:, 1])\n",
    "        dot_user_movie = tf.tensordot(user_vector, movie_vector, 2)\n",
    "        x = dot_user_movie + user_bias + movie_bias\n",
    "\n",
    "        return tf.nn.sigmoid(x)\n"
   ]
  },
  {
   "cell_type": "code",
   "execution_count": 10,
   "id": "f75f7151",
   "metadata": {},
   "outputs": [],
   "source": [
    "# Compile the model\n",
    "model = RecommenderNet(users_from_ratings.shape[0], movies_from_ratings.shape[0], 50)\n",
    "model.compile(loss='mse', optimizer=keras.optimizers.Adam(lr=0.001), metrics=['mse'])"
   ]
  },
  {
   "cell_type": "code",
   "execution_count": 24,
   "id": "e8dcda32",
   "metadata": {},
   "outputs": [
    {
     "name": "stdout",
     "output_type": "stream",
     "text": [
      "Epoch 1/5\n",
      "31047/31047 [==============================] - 812s 26ms/step - loss: 0.0570 - mse: 0.0505 - val_loss: 0.0657 - val_mse: 0.0545\n",
      "Epoch 2/5\n",
      "31047/31047 [==============================] - 804s 26ms/step - loss: 0.0758 - mse: 0.0615 - val_loss: 0.0830 - val_mse: 0.0661\n",
      "Epoch 3/5\n",
      "31047/31047 [==============================] - 816s 26ms/step - loss: 0.0903 - mse: 0.0716 - val_loss: 0.0936 - val_mse: 0.0734\n",
      "Epoch 4/5\n",
      "31047/31047 [==============================] - 824s 27ms/step - loss: 0.0986 - mse: 0.0775 - val_loss: 0.0990 - val_mse: 0.0770\n",
      "Epoch 5/5\n",
      "31047/31047 [==============================] - 825s 27ms/step - loss: 0.1028 - mse: 0.0803 - val_loss: 0.1019 - val_mse: 0.0789\n"
     ]
    }
   ],
   "source": [
    "# Train the Keras Recommender model\n",
    "history = model.fit(\n",
    "    x=x_train,\n",
    "    y=y_train,\n",
    "    batch_size=64,\n",
    "    epochs=5,\n",
    "    verbose=1,\n",
    "    validation_data=(x_val, y_val),\n",
    ")"
   ]
  },
  {
   "cell_type": "code",
   "execution_count": 25,
   "id": "74e4912e",
   "metadata": {},
   "outputs": [
    {
     "data": {
      "image/png": "[encoded data removed]",
      "text/plain": [
       "<Figure size 432x288 with 1 Axes>"
      ]
     },
     "metadata": {
      "needs_background": "light"
     },
     "output_type": "display_data"
    }
   ],
   "source": [
    "# Plot the model loss, MSE\n",
    "plt.plot(history.history[\"mse\"])\n",
    "plt.plot(history.history[\"val_mse\"])\n",
    "plt.title(\"model loss - mean squared error\")\n",
    "plt.ylabel(\"mse\")\n",
    "plt.xlabel(\"epoch\")\n",
    "plt.legend([\"train\", \"test\"], loc=\"upper left\")\n",
    "plt.show()"
   ]
  },
  {
   "cell_type": "markdown",
   "id": "ab54dbd9",
   "metadata": {},
   "source": [
    "# 4. Create movie recommendations\n",
    "\n",
    "This section of the notebook uses our trained Keras model plus collaborative filtering to generate 10 movie recommendations for a given user"
   ]
  },
  {
   "cell_type": "code",
   "execution_count": 26,
   "id": "4c6433ea",
   "metadata": {},
   "outputs": [],
   "source": [
    "# Create function to get top similar users\n",
    "def get_top_similar_users(user_id, current_user, similar_user_ratings, similar_user_count):\n",
    "    \"\"\"This function takes a user id and user threshold to return the top similar users based upon movie ratings\"\"\"\n",
    "    \n",
    "    # Create dictionary to store userids and similarity scores\n",
    "    similar_users = dict()\n",
    "    \n",
    "    # Get list of similiar user ids\n",
    "    similar_user_ids = similar_user_ratings.index\n",
    "    len_similar_users = len(similar_user_ids)\n",
    "\n",
    "    # Calculate similarities for all users\n",
    "    for i in range(len_similar_users):\n",
    "        \n",
    "        next_user_id = similar_user_ids[i]\n",
    "\n",
    "        # Make sure we don't calculate similarity for current user\n",
    "        if next_user_id != user_id:\n",
    "            next_user = similar_user_ratings.loc[[next_user_id]].to_numpy()\n",
    "            similar_users[i] = cosine_similarity(current_user,next_user)[0][0]\n",
    "    \n",
    "    # Sort based upon highest similarities\n",
    "    sorted_user_similarities = sorted(similar_users.items(), key = lambda x: x[1], reverse=True)\n",
    "    \n",
    "    # Return top user similarities\n",
    "    return list(zip(*sorted_user_similarities[:similar_user_count]))[0]\n",
    "\n",
    "def compute_similarity_rating(cur_user_id, similar_user_ratings, current_user_ratings, recommended_movie_ids):\n",
    "    \"\"\"This function computes the similarity rating of a movie based upon top similar users\"\"\"\n",
    "    \n",
    "    similarity_avg_ratings = pd.DataFrame()\n",
    "\n",
    "    # Get length of recommended movies\n",
    "    len_movies = len(recommended_movie_ids)\n",
    "        \n",
    "    # Get top similar users for the current user\n",
    "    top_similar_users = get_top_similar_users(cur_user_id, current_user_ratings, similar_user_ratings, 10)\n",
    "    \n",
    "    # Filter down users from original list\n",
    "    mask = similar_user_ratings.index.isin(top_similar_users)\n",
    "    filtered_top_similar_users = similar_user_ratings.index[mask].tolist()\n",
    "    print(\"User id's of top similar users:\", filtered_top_similar_users)\n",
    "\n",
    "    # Get all of the moving ratings from the top similar users\n",
    "    top_similar_user_ratings = similar_user_ratings.loc[filtered_top_similar_users]\n",
    "\n",
    "    # Enumerate through users movie ratings and compute the average movie rating from similar users\n",
    "    for i in range(len_movies):\n",
    "        cur_movie_id = recommended_movie_ids[i]\n",
    "        movie_ratings = top_similar_user_ratings[cur_movie_id].tolist()\n",
    "        movie_ratings = top_similar_user_ratings[top_similar_user_ratings[cur_movie_id] != 0][cur_movie_id].tolist()\n",
    "        avg_rating = 0\n",
    "\n",
    "        # Make sure we have at least one rating from similar users, if not then the similarity rating will be zero\n",
    "        if len(movie_ratings) > 0:\n",
    "            avg_rating = statistics.mean(movie_ratings)\n",
    "\n",
    "        similarity_avg_ratings = similarity_avg_ratings.append({\"new_user_id\": cur_user_id, \"new_movie_id\": cur_movie_id, \"similarity_rating\": avg_rating}, ignore_index = True)\n",
    "    \n",
    "    return similarity_avg_ratings #df_merged"
   ]
  },
  {
   "cell_type": "code",
   "execution_count": 27,
   "id": "243c9988",
   "metadata": {},
   "outputs": [
    {
     "name": "stdout",
     "output_type": "stream",
     "text": [
      "WARNING:tensorflow:Layer recommender_net_1 is casting an input tensor from dtype float64 to the layer's dtype of float32, which is new behavior in TensorFlow 2.  The layer has dtype float32 because its dtype defaults to floatx.\n",
      "\n",
      "If you intended to run this layer in float32, you can safely ignore this warning. If in doubt, this warning is likely only an issue if you are porting a TensorFlow 1.X model to TensorFlow 2.\n",
      "\n",
      "To change all layers to have dtype float64 by default, call `tf.keras.backend.set_floatx('float64')`. To change just this layer, pass dtype='float64' to the layer constructor. If you are the author of this layer, you can disable autocasting by passing autocast=False to the base Layer constructor.\n",
      "\n",
      "Showing recommendations for user: 9170\n",
      "====================================\n",
      "Movies with high ratings from user\n",
      "--------------------------------\n",
      "Koyaanisqatsi (a.k.a. Koyaanisqatsi: Life Out of Balance) (1983) : Documentary\n",
      "Ferris Bueller's Day Off (1986) : Comedy\n",
      "Being John Malkovich (1999) : Comedy|Drama|Fantasy\n",
      "My Neighbor Totoro (Tonari no Totoro) (1988) : Animation|Children|Drama|Fantasy\n",
      "Chappie (2015) : Action|Thriller\n",
      "--------------------------------\n",
      "Top 20 movie recommendations\n",
      "--------------------------------\n",
      "Shawshank Redemption, The (1994) : Crime|Drama\n",
      "Fugitive, The (1993) : Thriller\n",
      "Silence of the Lambs, The (1991) : Crime|Horror|Thriller\n",
      "Godfather, The (1972) : Crime|Drama\n",
      "Vertigo (1958) : Drama|Mystery|Romance|Thriller\n",
      "Casablanca (1942) : Drama|Romance\n",
      "Sunset Blvd. (a.k.a. Sunset Boulevard) (1950) : Drama|Film-Noir|Romance\n",
      "Citizen Kane (1941) : Drama|Mystery\n",
      "All About Eve (1950) : Drama\n",
      "Reservoir Dogs (1992) : Crime|Mystery|Thriller\n",
      "One Flew Over the Cuckoo's Nest (1975) : Drama\n",
      "12 Angry Men (1957) : Drama\n",
      "Goodfellas (1990) : Crime|Drama\n",
      "Godfather: Part II, The (1974) : Crime|Drama\n",
      "Fight Club (1999) : Action|Crime|Drama|Thriller\n",
      "Green Mile, The (1999) : Crime|Drama\n",
      "Double Indemnity (1944) : Crime|Drama|Film-Noir\n",
      "For a Few Dollars More (Per qualche dollaro in più) (1965) : Action|Drama|Thriller|Western\n",
      "Scarface (1983) : Action|Crime|Drama\n"
     ]
    }
   ],
   "source": [
    "# Let us get a user and see the top recommendations.\n",
    "user_id = 9170 #ratings.new_user_id.sample(1).iloc[0]\n",
    "\n",
    "# Get the movies not watched by the randomly selected user\n",
    "all_rated_movies = ratings.new_movie_id.unique()\n",
    "movies_watched_by_user = ratings[ratings.new_user_id == user_id]\n",
    "movies_not_watched = ratings[~ratings[\"new_movie_id\"].isin(movies_watched_by_user.new_movie_id.values)][[\"new_user_id\",\"new_movie_id\",\"rating\"]]\n",
    "\n",
    "# Get Keras model predictions\n",
    "keras_ratings = model.predict(movies_not_watched).flatten()\n",
    "top_ratings_indices = keras_ratings.argsort()[-20:][::-1]\n",
    "\n",
    "# Get the movie ids for the recommendations\n",
    "recommended_movie_ids = [movies_not_watched.iloc[int(x)][1] for x in top_ratings_indices]\n",
    "\n",
    "print(\"Showing recommendations for user: {}\".format(user_id))\n",
    "print(\"====\" * 9)\n",
    "print(\"Movies with high ratings from user\")\n",
    "print(\"----\" * 8)\n",
    "top_movies_user = (\n",
    "    movies_watched_by_user.sort_values(by=\"rating\", ascending=False)\n",
    "    .head(5)\n",
    "    .movieId.values\n",
    ")\n",
    "\n",
    "movie_df_rows = movies[movies[\"movieId\"].isin(top_movies_user)]\n",
    "for row in movie_df_rows.itertuples():\n",
    "    print(row.title, \":\", row.genres)\n",
    "\n",
    "print(\"----\" * 8)\n",
    "print(\"Top 20 movie recommendations\")\n",
    "print(\"----\" * 8)\n",
    "\n",
    "# Get original movieid from new_movie_id\n",
    "original_movieids = ratings[ratings[\"new_movie_id\"].isin(recommended_movie_ids)][[\"movieId\"]].values\n",
    "\n",
    "recommended_movies = movies[movies[\"movieId\"].isin(list(original_movieids))]\n",
    "for row in recommended_movies.itertuples():\n",
    "    print(row.title, \":\", row.genres)"
   ]
  },
  {
   "cell_type": "code",
   "execution_count": null,
   "id": "585d6133",
   "metadata": {},
   "outputs": [],
   "source": [
    "# Create movie rating matrix with userids on rows and movieids on columns\n",
    "user_rating_pivot = ratings.pivot(index='new_user_id', columns='new_movie_id', values='rating').fillna(0)"
   ]
  },
  {
   "cell_type": "code",
   "execution_count": null,
   "id": "019b2705",
   "metadata": {},
   "outputs": [],
   "source": [
    "# Get similarity rating for all user movie ratings\n",
    "similar_users_to_score = movies_not_watched[movies_not_watched[\"new_movie_id\"].isin(recommended_movie_ids)][\"new_user_id\"].unique()\n",
    "similar_user_ratings = user_rating_pivot.iloc[similar_users_to_score]\n",
    "user_movie_ratings = user_rating_pivot.loc[[user_id]].to_numpy()"
   ]
  },
  {
   "cell_type": "code",
   "execution_count": 20,
   "id": "62fab2e2",
   "metadata": {},
   "outputs": [
    {
     "name": "stdout",
     "output_type": "stream",
     "text": [
      "User id's of top similar users: [2426, 2986, 3278, 3525, 7595, 7854, 9500, 13514]\n"
     ]
    }
   ],
   "source": [
    "# Get the average movie rating from top similar users, display top similar users\n",
    "df_similarity_ratings = compute_similarity_rating(user_id, similar_user_ratings, user_movie_ratings, recommended_movie_ids)"
   ]
  },
  {
   "cell_type": "code",
   "execution_count": 21,
   "id": "b7cd30e8",
   "metadata": {},
   "outputs": [
    {
     "data": {
      "text/html": [
       "<div>\n",
       "<style scoped>\n",
       "    .dataframe tbody tr th:only-of-type {\n",
       "        vertical-align: middle;\n",
       "    }\n",
       "\n",
       "    .dataframe tbody tr th {\n",
       "        vertical-align: top;\n",
       "    }\n",
       "\n",
       "    .dataframe thead th {\n",
       "        text-align: right;\n",
       "    }\n",
       "</style>\n",
       "<table border=\"1\" class=\"dataframe\">\n",
       "  <thead>\n",
       "    <tr style=\"text-align: right;\">\n",
       "      <th></th>\n",
       "      <th>new_movie_id</th>\n",
       "      <th>new_user_id</th>\n",
       "      <th>similarity_rating</th>\n",
       "    </tr>\n",
       "  </thead>\n",
       "  <tbody>\n",
       "    <tr>\n",
       "      <th>0</th>\n",
       "      <td>79.0</td>\n",
       "      <td>9170.0</td>\n",
       "      <td>4.071429</td>\n",
       "    </tr>\n",
       "    <tr>\n",
       "      <th>1</th>\n",
       "      <td>96.0</td>\n",
       "      <td>9170.0</td>\n",
       "      <td>4.250000</td>\n",
       "    </tr>\n",
       "    <tr>\n",
       "      <th>2</th>\n",
       "      <td>297.0</td>\n",
       "      <td>9170.0</td>\n",
       "      <td>4.500000</td>\n",
       "    </tr>\n",
       "    <tr>\n",
       "      <th>3</th>\n",
       "      <td>79.0</td>\n",
       "      <td>9170.0</td>\n",
       "      <td>4.071429</td>\n",
       "    </tr>\n",
       "    <tr>\n",
       "      <th>4</th>\n",
       "      <td>265.0</td>\n",
       "      <td>9170.0</td>\n",
       "      <td>0.000000</td>\n",
       "    </tr>\n",
       "    <tr>\n",
       "      <th>5</th>\n",
       "      <td>268.0</td>\n",
       "      <td>9170.0</td>\n",
       "      <td>4.250000</td>\n",
       "    </tr>\n",
       "    <tr>\n",
       "      <th>6</th>\n",
       "      <td>260.0</td>\n",
       "      <td>9170.0</td>\n",
       "      <td>4.125000</td>\n",
       "    </tr>\n",
       "    <tr>\n",
       "      <th>7</th>\n",
       "      <td>1062.0</td>\n",
       "      <td>9170.0</td>\n",
       "      <td>4.500000</td>\n",
       "    </tr>\n",
       "    <tr>\n",
       "      <th>8</th>\n",
       "      <td>96.0</td>\n",
       "      <td>9170.0</td>\n",
       "      <td>4.250000</td>\n",
       "    </tr>\n",
       "    <tr>\n",
       "      <th>9</th>\n",
       "      <td>36.0</td>\n",
       "      <td>9170.0</td>\n",
       "      <td>4.600000</td>\n",
       "    </tr>\n",
       "  </tbody>\n",
       "</table>\n",
       "</div>"
      ],
      "text/plain": [
       "   new_movie_id  new_user_id  similarity_rating\n",
       "0          79.0       9170.0           4.071429\n",
       "1          96.0       9170.0           4.250000\n",
       "2         297.0       9170.0           4.500000\n",
       "3          79.0       9170.0           4.071429\n",
       "4         265.0       9170.0           0.000000\n",
       "5         268.0       9170.0           4.250000\n",
       "6         260.0       9170.0           4.125000\n",
       "7        1062.0       9170.0           4.500000\n",
       "8          96.0       9170.0           4.250000\n",
       "9          36.0       9170.0           4.600000"
      ]
     },
     "execution_count": 21,
     "metadata": {},
     "output_type": "execute_result"
    }
   ],
   "source": [
    "# Display top similar user average movie rating for the current user\n",
    "df_similarity_ratings.head(10)"
   ]
  },
  {
   "cell_type": "code",
   "execution_count": 22,
   "id": "cb530cd4",
   "metadata": {},
   "outputs": [
    {
     "name": "stdout",
     "output_type": "stream",
     "text": [
      "--------------------------------\n",
      "Top 10 movie recommendations, post collaborative filtering based upon user similarity\n",
      "--------------------------------\n",
      "Fugitive, The (1993) : Thriller\n",
      "Godfather, The (1972) : Crime|Drama\n",
      "Vertigo (1958) : Drama|Mystery|Romance|Thriller\n",
      "Citizen Kane (1941) : Drama|Mystery\n",
      "Reservoir Dogs (1992) : Crime|Mystery|Thriller\n",
      "American History X (1998) : Crime|Drama\n",
      "Office Space (1999) : Comedy|Crime\n",
      "Christmas Story, A (1983) : Children|Comedy\n",
      "Fight Club (1999) : Action|Crime|Drama|Thriller\n",
      "Lord of the Rings: The Two Towers, The (2002) : Adventure|Fantasy\n"
     ]
    }
   ],
   "source": [
    "# Get top similarity ratings for movies \n",
    "filtered_similarity_ratings = df_similarity_ratings[df_similarity_ratings[\"new_movie_id\"].isin(recommended_movie_ids)]\n",
    "top_similarity_ratings = filtered_similarity_ratings.sort_values(by=\"similarity_rating\", ascending=False)[:10]\n",
    "\n",
    "# Get original movie ids and associated movie information for recommendations\n",
    "filtered_similarity_ratings_orig_movie_ids = ratings[ratings[\"new_movie_id\"].isin(top_similarity_ratings[\"new_movie_id\"].values.tolist())][[\"movieId\"]].values\n",
    "filtered_recommended_movies = movies[movies[\"movieId\"].isin(list(filtered_similarity_ratings_orig_movie_ids))]\n",
    "\n",
    "# Display the revised results\n",
    "print(\"----\" * 8)\n",
    "print(\"Top 10 movie recommendations, post collaborative filtering based upon user similarity\")\n",
    "print(\"----\" * 8)\n",
    "\n",
    "for row in filtered_recommended_movies.itertuples():\n",
    "    print(row.title, \":\", row.genres)"
   ]
  }
 ],
 "metadata": {
  "environment": {
   "name": "tf2-gpu.2-3.m65",
   "type": "gcloud",
   "uri": "gcr.io/deeplearning-platform-release/tf2-gpu.2-3:m65"
  },
  "kernelspec": {
   "display_name": "Python 3",
   "language": "python",
   "name": "python3"
  },
  "language_info": {
   "codemirror_mode": {
    "name": "ipython",
    "version": 3
   },
   "file_extension": ".py",
   "mimetype": "text/x-python",
   "name": "python",
   "nbconvert_exporter": "python",
   "pygments_lexer": "ipython3",
   "version": "3.7.10"
  }
 },
 "nbformat": 4,
 "nbformat_minor": 5
}
